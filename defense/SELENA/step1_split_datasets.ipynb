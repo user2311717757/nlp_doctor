{
 "cells": [
  {
   "attachments": {},
   "cell_type": "markdown",
   "metadata": {},
   "source": [
    "## Step1: Split Datasets"
   ]
  },
  {
   "cell_type": "code",
   "execution_count": null,
   "metadata": {},
   "outputs": [],
   "source": [
    "\"\"\"\n",
    "1. Load the original datastes.\n",
    "\"\"\"\n",
    "import pandas as pd\n",
    "task = \"sst2\"\n",
    "df_path = f\"./datasets/{task}\"\n",
    "df = pd.read_csv(df_path+\"/train.tsv\",\"\\t\")\n",
    "df_dev = pd.read_csv(df_path+\"/dev.tsv\",\"\\t\")\n",
    "\n",
    "df"
   ]
  },
  {
   "cell_type": "code",
   "execution_count": null,
   "metadata": {},
   "outputs": [],
   "source": [
    "\"\"\"\n",
    "2. Given K and L, to get the sub-datasets.\n",
    "\"\"\"\n",
    "from random import sample\n",
    "from collections import defaultdict\n",
    "import numpy as np\n",
    "import os\n",
    "\n",
    "n = len(df)\n",
    "K = 25\n",
    "L = 10\n",
    "\n",
    "dataset_name = \"sub_datasets\"\n",
    "\n",
    "if not os.path.exists(f\"./{dataset_name}\"):\n",
    "    os.mkdir(f\"./{dataset_name}\")\n",
    "\n",
    "if not os.path.exists(f\"./{dataset_name}/K{K}_L{L}\"):\n",
    "    os.mkdir(f\"./{dataset_name}/K{K}_L{L}\")\n",
    "\n",
    "if not os.path.exists(f\"./{dataset_name}/K{K}_L{L}/{task}\"):\n",
    "    os.mkdir(f\"./{dataset_name}/K{K}_L{L}/{task}\")\n",
    "\n",
    "full_idx = list(range(K))\n",
    "datasets = defaultdict(list)\n",
    "\n",
    "inference_dict = []\n",
    "\n",
    "for i in range(n):\n",
    "    idx_list = sample(full_idx,L)\n",
    "    inference_dict.append(idx_list)\n",
    "\n",
    "    apppend_list =  list(set(full_idx).difference(set(idx_list))) \n",
    "    for x in apppend_list:\n",
    "        datasets[x].append(i)\n",
    "\n",
    "for i in datasets.keys():\n",
    "    if not os.path.exists(f\"./{dataset_name}/K{K}_L{L}/{task}/sub_model_{i}\"):\n",
    "        os.mkdir(f\"./{dataset_name}/K{K}_L{L}/{task}/sub_model_{i}\")\n",
    "    tmp = df.iloc[datasets[i]]\n",
    "    tmp.to_csv(f\"./{dataset_name}/K{K}_L{L}/{task}/sub_model_{i}/train.tsv\",\"\\t\",index=0)\n",
    "    df_dev.to_csv(f\"./{dataset_name}/K{K}_L{L}/{task}/sub_model_{i}/dev.tsv\",\"\\t\",index=0)\n",
    "    \n",
    "inference_dict = np.array(inference_dict)\n",
    "np.save(f\"./{dataset_name}/K{K}_L{L}/{task}/inference_dict.npy\",inference_dict)"
   ]
  }
 ],
 "metadata": {
  "kernelspec": {
   "display_name": "slu_10.2",
   "language": "python",
   "name": "python3"
  },
  "language_info": {
   "codemirror_mode": {
    "name": "ipython",
    "version": 3
   },
   "file_extension": ".py",
   "mimetype": "text/x-python",
   "name": "python",
   "nbconvert_exporter": "python",
   "pygments_lexer": "ipython3",
   "version": "3.7.12"
  },
  "orig_nbformat": 4
 },
 "nbformat": 4,
 "nbformat_minor": 2
}
